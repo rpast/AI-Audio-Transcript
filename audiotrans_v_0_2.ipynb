{
  "nbformat": 4,
  "nbformat_minor": 0,
  "metadata": {
    "colab": {
      "provenance": [],
      "collapsed_sections": [
        "hymk8yyLRqKR",
        "HdyGJQYdTXFh"
      ],
      "authorship_tag": "ABX9TyNlJirxe7iQmuS//59+ZI5x",
      "include_colab_link": true
    },
    "kernelspec": {
      "name": "python3",
      "display_name": "Python 3"
    },
    "language_info": {
      "name": "python"
    }
  },
  "cells": [
    {
      "cell_type": "markdown",
      "metadata": {
        "id": "view-in-github",
        "colab_type": "text"
      },
      "source": [
        "<a href=\"https://colab.research.google.com/github/rpast/AI-Audio-Transcript/blob/main/audiotrans_v_0_2.ipynb\" target=\"_parent\"><img src=\"https://colab.research.google.com/assets/colab-badge.svg\" alt=\"Open In Colab\"/></a>"
      ]
    },
    {
      "cell_type": "markdown",
      "source": [
        "# AudioTrans v.0.2\n",
        "## Open AI, Whisper, Audio->Text\n",
        "\n",
        "---\n",
        "\n",
        "### Aby transkrybować audio zacznij od tych kroków:\n",
        "1. Załóż konto w Open AI (przejdź do tej strony i kliknij 'Get started' w tekscie: https://openai.com/blog/introducing-chatgpt-and-whisper-apis).\n",
        "2. Wygeneruj klucz API w ustawieniach konta i 'View API keys' i nikomu go nie udostępniaj.\n",
        "3. W wersji trial otrzymasz kilka $ na zabawę. Jak chcesz bawić się dłużej to musisz spiąć konto z kartą kredytową w ustawieniach konta > billing\n",
        "\n",
        "### Dokumentacja API:\n",
        "https://github.com/openai/whisper\n"
      ],
      "metadata": {
        "id": "f6PXyOy4GGiQ"
      }
    },
    {
      "cell_type": "markdown",
      "source": [
        "# 1. Set up"
      ],
      "metadata": {
        "id": "hymk8yyLRqKR"
      }
    },
    {
      "cell_type": "code",
      "source": [
        "# Zainstaluj biblioteke Open AI\n",
        "! pip install openai"
      ],
      "metadata": {
        "colab": {
          "base_uri": "https://localhost:8080/"
        },
        "id": "Ry9gUrX_d_R2",
        "outputId": "d37be5a0-1b88-44ae-d8ad-11cddaaa1866"
      },
      "execution_count": null,
      "outputs": [
        {
          "output_type": "stream",
          "name": "stdout",
          "text": [
            "Looking in indexes: https://pypi.org/simple, https://us-python.pkg.dev/colab-wheels/public/simple/\n",
            "Collecting openai\n",
            "  Downloading openai-0.27.0-py3-none-any.whl (70 kB)\n",
            "\u001b[2K     \u001b[90m━━━━━━━━━━━━━━━━━━━━━━━━━━━━━━━━━━━━━━━━\u001b[0m \u001b[32m70.1/70.1 KB\u001b[0m \u001b[31m2.6 MB/s\u001b[0m eta \u001b[36m0:00:00\u001b[0m\n",
            "\u001b[?25hRequirement already satisfied: tqdm in /usr/local/lib/python3.8/dist-packages (from openai) (4.64.1)\n",
            "Requirement already satisfied: requests>=2.20 in /usr/local/lib/python3.8/dist-packages (from openai) (2.25.1)\n",
            "Requirement already satisfied: aiohttp in /usr/local/lib/python3.8/dist-packages (from openai) (3.8.4)\n",
            "Requirement already satisfied: urllib3<1.27,>=1.21.1 in /usr/local/lib/python3.8/dist-packages (from requests>=2.20->openai) (1.26.14)\n",
            "Requirement already satisfied: idna<3,>=2.5 in /usr/local/lib/python3.8/dist-packages (from requests>=2.20->openai) (2.10)\n",
            "Requirement already satisfied: chardet<5,>=3.0.2 in /usr/local/lib/python3.8/dist-packages (from requests>=2.20->openai) (4.0.0)\n",
            "Requirement already satisfied: certifi>=2017.4.17 in /usr/local/lib/python3.8/dist-packages (from requests>=2.20->openai) (2022.12.7)\n",
            "Requirement already satisfied: aiosignal>=1.1.2 in /usr/local/lib/python3.8/dist-packages (from aiohttp->openai) (1.3.1)\n",
            "Requirement already satisfied: frozenlist>=1.1.1 in /usr/local/lib/python3.8/dist-packages (from aiohttp->openai) (1.3.3)\n",
            "Requirement already satisfied: async-timeout<5.0,>=4.0.0a3 in /usr/local/lib/python3.8/dist-packages (from aiohttp->openai) (4.0.2)\n",
            "Requirement already satisfied: yarl<2.0,>=1.0 in /usr/local/lib/python3.8/dist-packages (from aiohttp->openai) (1.8.2)\n",
            "Requirement already satisfied: charset-normalizer<4.0,>=2.0 in /usr/local/lib/python3.8/dist-packages (from aiohttp->openai) (3.0.1)\n",
            "Requirement already satisfied: attrs>=17.3.0 in /usr/local/lib/python3.8/dist-packages (from aiohttp->openai) (22.2.0)\n",
            "Requirement already satisfied: multidict<7.0,>=4.5 in /usr/local/lib/python3.8/dist-packages (from aiohttp->openai) (6.0.4)\n",
            "Installing collected packages: openai\n",
            "Successfully installed openai-0.27.0\n"
          ]
        }
      ]
    },
    {
      "cell_type": "code",
      "execution_count": null,
      "metadata": {
        "id": "nXzEoqDUd178"
      },
      "outputs": [],
      "source": [
        "# Importuj biblioteki\n",
        "import openai\n",
        "from google.colab import drive"
      ]
    },
    {
      "cell_type": "code",
      "source": [
        "# Podłącz dysk google\n",
        "drive.mount('/content/drive')"
      ],
      "metadata": {
        "colab": {
          "base_uri": "https://localhost:8080/"
        },
        "id": "ik0M9aafd5Fp",
        "outputId": "e7a9f339-065b-479e-c4d7-bd473727837f"
      },
      "execution_count": null,
      "outputs": [
        {
          "output_type": "stream",
          "name": "stdout",
          "text": [
            "Mounted at /content/drive\n"
          ]
        }
      ]
    },
    {
      "cell_type": "markdown",
      "source": [
        "# 2. Ustawienia modelu"
      ],
      "metadata": {
        "id": "qu-w5qFsRtel"
      }
    },
    {
      "cell_type": "code",
      "source": [
        "#@markdown Wprowadź swój klucz API\n",
        "api_key = ''#@param {type:\"string\"}\n",
        "\n",
        "#@markdown Wklej ścieżkę do odczytu pliku audio na Google Drive\n",
        "file_read_path = ''#@param {type:\"string\"}\n",
        "\n",
        "#@markdown Wklej ścieżkę do zapisu pliku tekstowego na Google Drive\n",
        "file_save_path = ''#@param {type:\"string\"}"
      ],
      "metadata": {
        "id": "aqXsZbgGeyAr",
        "cellView": "form"
      },
      "execution_count": null,
      "outputs": []
    },
    {
      "cell_type": "markdown",
      "source": [
        "# 3. Transkrypcja"
      ],
      "metadata": {
        "id": "HdyGJQYdTXFh"
      }
    },
    {
      "cell_type": "code",
      "source": [
        "openai.api_key = api_key\n",
        "audio_file= open(file_read_path, \"rb\")\n",
        "transcript = openai.Audio.transcribe(\"whisper-1\", audio_file)\n",
        "text = transcript['text']\n",
        "\n",
        "# Popraw kodowanie znaków\n",
        "decoded_text = text.encode('utf-8').decode('unicode_escape')\n",
        "new_decoded_text = decoded_text.encode('iso-8859-1').decode('utf-8')\n",
        "\n"
      ],
      "metadata": {
        "id": "C_0r-ZgqeeEk"
      },
      "execution_count": null,
      "outputs": []
    },
    {
      "cell_type": "markdown",
      "source": [
        "# 4. Tekst\n"
      ],
      "metadata": {
        "id": "jWQB37-eWBBc"
      }
    },
    {
      "cell_type": "code",
      "source": [
        "new_decoded_text"
      ],
      "metadata": {
        "colab": {
          "base_uri": "https://localhost:8080/",
          "height": 35
        },
        "id": "M6e4MCZ2WDC4",
        "outputId": "0c07d88f-cf29-4567-a319-b8febc1e4529"
      },
      "execution_count": null,
      "outputs": [
        {
          "output_type": "execute_result",
          "data": {
            "text/plain": [
              "'Jak pani uważa, czy AI zniszczy naszą cywilizację? Odejdź stąd, rybak! Tak to właśnie jest. Nie traktują tego poważnie.'"
            ],
            "application/vnd.google.colaboratory.intrinsic+json": {
              "type": "string"
            }
          },
          "metadata": {},
          "execution_count": 9
        }
      ]
    }
  ]
}